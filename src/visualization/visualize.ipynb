{
 "cells": [
  {
   "cell_type": "markdown",
   "metadata": {},
   "source": [
    "# 1. Tiêu chí đánh giá\n",
    "\n",
    "## 1.1 Chuẩn bị dữ liệu (Data Preparation) - 40%\n",
    "\n",
    "- Kiểm tra tính chính xác của dữ liệu, thông qua **làm sạch**, **chuyển đổi định dạng dữ liệu**.  - 5%\n",
    "\n",
    "- Vận dụng **4 câu hỏi trong phân tích dữ liệu** để xác định mục tiêu, khai thác vấn đề gặp phải và chiến lược - 10%\n",
    "\n",
    "- Xây dựng mô hình dữ liệu - 15%\n",
    "\n",
    "- Xây dựng nội dung câu chuyện mà bạn hướng đến - 10% \n",
    "\n",
    "## 1.2 Trực quan dữ liệu - 25%\n",
    "\n",
    "- Trình bày kết quả thông qua ý nghĩa các biểu đồ - 15%\n",
    "\n",
    "- Trình bày bố cục bảng điều khiển (dashboard) rõ ràng - 10%\n",
    "\n",
    "## 1.3 Trình bày kết quả - 35% \n",
    "\n",
    "- Slide trình bày sản phẩm - 25% \n",
    "\n",
    "- Kỹ năng tư duy và sáng tạo - 10%"
   ]
  },
  {
   "cell_type": "markdown",
   "metadata": {},
   "source": [
    "# 2. Phụ lục \n",
    "\n",
    "## 2.1 Quá trình phân tích dữ liệu theo các bước.\n",
    "\n",
    "- Bước 1: Prepare: Thu thập, làm sạch và xử lý trước dữ liệu thô để phù hợp cho việc phân tích. \n",
    "\n",
    "- Bước 2: Xây dựng mô hình dữ liệu thể hiện cấu trúc, mối quan hệ và các ràng buộc của dữ liệu. \n",
    "\n",
    "- Bước 3: Phân tích: Cốt lõi của phân tích dữ liệu giúp đào sâu để khám phá những hiểu biết sâu sắc và trả lời câu hỏi.\n",
    "\n",
    "- Bước 4: Trực quan: Trực quan hóa dữ liệu là một công cụ mạnh mẽ cho khám phá dữ liệu, xác định các mẫu và truyền đạt những phát hiện một cách hiệu quả. \n",
    "\n",
    "- Bước 5: Quản lý (manage): đảm bảo tính toàn vẹn, nhất quán, và bảo mật của dữ liệu đang được sử dụng. \n",
    "\n",
    "## 2.2 4 câu hỏi trong phân tích dữ liệu.\n",
    "\n",
    "- Phân tích mô tả (Descriptive Analytics): Trả lời các câu hỏi về những gì đã xảy ra trong một khoảng thời gian nhất định bằng cách tóm tắt dữ liệu trong quá khứ và trình bày các kết quả. \n",
    "\n",
    "- Phân tích chuẩn đoán (Diagnostic Analytics): Những hiểu biết từ phân tích mô tả để đào sâu hơn để tìm ra nguyên nhân của kết quả. \n",
    "\n",
    "- Phân tích dự đoán (Predictive Analytics): Dữ liệu lịch sử và xu hướng được sử dụng để dự đoán. Lưu ý là mục đích **không phải để nói những gì sẽ xảy ra, đó là dự báo những gì có thể xảy ra**. \n",
    "\n",
    "- Phân tích đề xuất (Prescriptive Analytics): Phân tích các quyết định và sự kiện trong quá khứ, khả năng của các kết quả khác nhau. "
   ]
  },
  {
   "cell_type": "markdown",
   "metadata": {},
   "source": [
    "# 3. Mục tiêu\n",
    "\n",
    "1. Có một bức tranh tổng quan về Future Retailer\n",
    "\n",
    "2. Rút ra 01 thông điệp đến nhà quản lý với những vấn đề đã được phân tích từ đề bài \n",
    "\n"
   ]
  },
  {
   "cell_type": "markdown",
   "metadata": {},
   "source": [
    "# 4. Nhiệm vụ \n",
    "\n",
    "1. **Đánh giá hiệu quả kinh doanh của từng mặt hàng sản phẩm (Product Category)** thông qua việc _phân tích lợi nhuận_ dựa trên _giá sản xuất, giá bán_ để biết được sản phẩm nào đang có tổng lợi nhuận (GMROI) cao nhất/thấp nhất nhằm đề xuất chiến lược bán hàng phù hợp. \n",
    "\n",
    "2. **Đánh giá về hành vi mua hàng của khách hàng** để đưa ra những cải tiến trong việc nâng cao chất lượng dịch vụ chăm sóc khách hàng **dựa trên những lý do từ chối** để hiểu hơn cốt lõi của vấn đề. \n",
    "\n",
    "3. **Đánh giá về hiệu suất làm việc của đội ngũ tư vấn** để đánh giá hiệu suất công việc, chính sách khen thưởng phù hợp nhằm nâng cao đội ngũ nhân sự. "
   ]
  },
  {
   "cell_type": "markdown",
   "metadata": {},
   "source": [
    "# 5. Thông tin về bộ dữ liệu\n",
    "\n",
    "| Thuộc tính | Mô tả |\n",
    "|---|---|\n",
    "| Order ID | Mã đặt hàng |\n",
    "| Customer ID | Mã khách hàng |\n",
    "| Product category | Loại sản phẩm |\n",
    "| Order date | Ngày đặt hàng |\n",
    "| Quantity order | Số lượng sản phẩm đặt trong đơn hàng |\n",
    "| Total Profit | Tổng lợi nhuận |\n",
    "| Sale agent | Người bán hàng |\n",
    "| Order status | Tình trạng giao hàng |\n",
    "| State | Tiểu bang khách hàng chọn giao |\n",
    "| Phone number | Số điện thoại khách hàng chọn giao hàng |\n",
    "| Manufacturer price | Giá của nhà sản xuất xuất trên từng sản phẩm |\n",
    "| Sale price | Giá bán cho khách hàng trên từng sản phẩm |"
   ]
  },
  {
   "cell_type": "markdown",
   "metadata": {},
   "source": [
    "# Import Library"
   ]
  },
  {
   "cell_type": "code",
   "execution_count": 1,
   "metadata": {},
   "outputs": [],
   "source": [
    "import pandas as pd\n",
    "from pathlib import Path\n",
    "import matplotlib.pyplot as plt\n",
    "import seaborn as sns"
   ]
  },
  {
   "cell_type": "markdown",
   "metadata": {},
   "source": [
    "# Read Data"
   ]
  },
  {
   "cell_type": "code",
   "execution_count": 2,
   "metadata": {},
   "outputs": [],
   "source": [
    "raw_data_path = Path(r'C:\\Users\\lenovo\\OneDrive - Cong ty co phan Format Vietnam JSC\\Desktop\\aiesec_da\\data\\raw_data')\n",
    "df = pd.read_excel(r\"C:\\Users\\lenovo\\OneDrive - Cong ty co phan Format Vietnam JSC\\Desktop\\aiesec_da\\data\\raw\\01. Future Retailer_Dataset.xlsx\")"
   ]
  },
  {
   "cell_type": "code",
   "execution_count": 3,
   "metadata": {},
   "outputs": [],
   "source": [
    "xls = pd.ExcelFile(r\"C:\\Users\\lenovo\\OneDrive - Cong ty co phan Format Vietnam JSC\\Desktop\\aiesec_da\\data\\raw\\01. Future Retailer_Dataset.xlsx\")\n",
    "sheets = xls.sheet_names\n",
    "dataframes = {sheet: pd.read_excel(xls, sheet) for sheet in sheets}\n"
   ]
  },
  {
   "cell_type": "code",
   "execution_count": 4,
   "metadata": {},
   "outputs": [
    {
     "data": {
      "text/plain": [
       "dict_keys(['10.SE Regional Sales', '11.SE Regional Sales', '12.SE Regional Sales', 'Customer'])"
      ]
     },
     "execution_count": 4,
     "metadata": {},
     "output_type": "execute_result"
    }
   ],
   "source": [
    "dataframes.keys()"
   ]
  },
  {
   "cell_type": "code",
   "execution_count": 5,
   "metadata": {},
   "outputs": [],
   "source": [
    "reg_sale_10 = dataframes['10.SE Regional Sales']\n",
    "reg_sale_11 = dataframes['11.SE Regional Sales']\n",
    "reg_sale_12 = dataframes['12.SE Regional Sales']\n",
    "customer = dataframes['Customer']"
   ]
  },
  {
   "cell_type": "code",
   "execution_count": 6,
   "metadata": {},
   "outputs": [
    {
     "data": {
      "text/html": [
       "<div>\n",
       "<style scoped>\n",
       "    .dataframe tbody tr th:only-of-type {\n",
       "        vertical-align: middle;\n",
       "    }\n",
       "\n",
       "    .dataframe tbody tr th {\n",
       "        vertical-align: top;\n",
       "    }\n",
       "\n",
       "    .dataframe thead th {\n",
       "        text-align: right;\n",
       "    }\n",
       "</style>\n",
       "<table border=\"1\" class=\"dataframe\">\n",
       "  <thead>\n",
       "    <tr style=\"text-align: right;\">\n",
       "      <th></th>\n",
       "      <th>Order ID</th>\n",
       "      <th>Customer Last Name</th>\n",
       "      <th>Customer First Name</th>\n",
       "      <th>Customer ID</th>\n",
       "      <th>Product Category</th>\n",
       "      <th>Order Date</th>\n",
       "      <th>Quantity Ordered</th>\n",
       "      <th>Order Status</th>\n",
       "      <th>State</th>\n",
       "      <th>Manufacturer Price</th>\n",
       "      <th>Sale Price</th>\n",
       "      <th>Total Profit (GMROI)</th>\n",
       "      <th>Sales Agent</th>\n",
       "      <th>Return Reason</th>\n",
       "    </tr>\n",
       "  </thead>\n",
       "  <tbody>\n",
       "    <tr>\n",
       "      <th>0</th>\n",
       "      <td>1001</td>\n",
       "      <td>Hughes</td>\n",
       "      <td>Lewis</td>\n",
       "      <td>1234</td>\n",
       "      <td>Clothing</td>\n",
       "      <td>2022-10-11</td>\n",
       "      <td>16</td>\n",
       "      <td>Delivered</td>\n",
       "      <td>LA</td>\n",
       "      <td>1485</td>\n",
       "      <td>1880</td>\n",
       "      <td>395</td>\n",
       "      <td>Kelly</td>\n",
       "      <td>NaN</td>\n",
       "    </tr>\n",
       "    <tr>\n",
       "      <th>1</th>\n",
       "      <td>1002</td>\n",
       "      <td>Gomez</td>\n",
       "      <td>Ali</td>\n",
       "      <td>1235</td>\n",
       "      <td>Home &amp; Kitchen</td>\n",
       "      <td>2022-10-09</td>\n",
       "      <td>11</td>\n",
       "      <td>Delivered</td>\n",
       "      <td>LA</td>\n",
       "      <td>1310</td>\n",
       "      <td>1602</td>\n",
       "      <td>292</td>\n",
       "      <td>Brian</td>\n",
       "      <td>NaN</td>\n",
       "    </tr>\n",
       "    <tr>\n",
       "      <th>2</th>\n",
       "      <td>1003</td>\n",
       "      <td>Beck</td>\n",
       "      <td>Mila</td>\n",
       "      <td>1236</td>\n",
       "      <td>Personal Care</td>\n",
       "      <td>2022-10-21</td>\n",
       "      <td>4</td>\n",
       "      <td>Shipped</td>\n",
       "      <td>GA</td>\n",
       "      <td>800</td>\n",
       "      <td>891</td>\n",
       "      <td>91</td>\n",
       "      <td>Terrence</td>\n",
       "      <td>NaN</td>\n",
       "    </tr>\n",
       "    <tr>\n",
       "      <th>3</th>\n",
       "      <td>1004</td>\n",
       "      <td>Juarez</td>\n",
       "      <td>Ryleigh</td>\n",
       "      <td>1237</td>\n",
       "      <td>Personal Care</td>\n",
       "      <td>2022-10-26</td>\n",
       "      <td>20</td>\n",
       "      <td>Cancelled</td>\n",
       "      <td>NC</td>\n",
       "      <td>1190</td>\n",
       "      <td>1462</td>\n",
       "      <td>272</td>\n",
       "      <td>Brian</td>\n",
       "      <td>Defective</td>\n",
       "    </tr>\n",
       "    <tr>\n",
       "      <th>4</th>\n",
       "      <td>1005</td>\n",
       "      <td>Preston</td>\n",
       "      <td>Leonidas</td>\n",
       "      <td>1238</td>\n",
       "      <td>Electronics</td>\n",
       "      <td>2022-10-22</td>\n",
       "      <td>9</td>\n",
       "      <td>Shipped</td>\n",
       "      <td>GA</td>\n",
       "      <td>470</td>\n",
       "      <td>525</td>\n",
       "      <td>55</td>\n",
       "      <td>Daniel</td>\n",
       "      <td>NaN</td>\n",
       "    </tr>\n",
       "  </tbody>\n",
       "</table>\n",
       "</div>"
      ],
      "text/plain": [
       "   Order ID  Customer Last Name Customer First Name  Customer ID  \\\n",
       "0       1001             Hughes               Lewis         1234   \n",
       "1       1002              Gomez                 Ali         1235   \n",
       "2       1003               Beck                Mila         1236   \n",
       "3       1004             Juarez             Ryleigh         1237   \n",
       "4       1005            Preston            Leonidas         1238   \n",
       "\n",
       "  Product Category Order Date  Quantity Ordered Order Status State  \\\n",
       "0         Clothing 2022-10-11                16    Delivered    LA   \n",
       "1   Home & Kitchen 2022-10-09                11    Delivered    LA   \n",
       "2    Personal Care 2022-10-21                 4      Shipped    GA   \n",
       "3    Personal Care 2022-10-26                20    Cancelled    NC   \n",
       "4      Electronics 2022-10-22                 9      Shipped    GA   \n",
       "\n",
       "   Manufacturer Price  Sale Price  Total Profit (GMROI) Sales Agent  \\\n",
       "0                1485        1880                   395       Kelly   \n",
       "1                1310        1602                   292       Brian   \n",
       "2                 800         891                    91    Terrence   \n",
       "3                1190        1462                   272       Brian   \n",
       "4                 470         525                    55      Daniel   \n",
       "\n",
       "  Return Reason  \n",
       "0           NaN  \n",
       "1           NaN  \n",
       "2           NaN  \n",
       "3     Defective  \n",
       "4           NaN  "
      ]
     },
     "execution_count": 6,
     "metadata": {},
     "output_type": "execute_result"
    }
   ],
   "source": [
    "reg_sale_10.head()"
   ]
  },
  {
   "cell_type": "code",
   "execution_count": 7,
   "metadata": {},
   "outputs": [
    {
     "data": {
      "text/html": [
       "<div>\n",
       "<style scoped>\n",
       "    .dataframe tbody tr th:only-of-type {\n",
       "        vertical-align: middle;\n",
       "    }\n",
       "\n",
       "    .dataframe tbody tr th {\n",
       "        vertical-align: top;\n",
       "    }\n",
       "\n",
       "    .dataframe thead th {\n",
       "        text-align: right;\n",
       "    }\n",
       "</style>\n",
       "<table border=\"1\" class=\"dataframe\">\n",
       "  <thead>\n",
       "    <tr style=\"text-align: right;\">\n",
       "      <th></th>\n",
       "      <th>Order ID</th>\n",
       "      <th>Customer Last Name</th>\n",
       "      <th>Customer First Name</th>\n",
       "      <th>Customer ID</th>\n",
       "      <th>Product Category</th>\n",
       "      <th>Order Date</th>\n",
       "      <th>Quantity Ordered</th>\n",
       "      <th>Order Status</th>\n",
       "      <th>State</th>\n",
       "      <th>Manufacturer Price</th>\n",
       "      <th>Sale Price</th>\n",
       "      <th>Total Profit (GMROI)</th>\n",
       "      <th>Sales Agent</th>\n",
       "      <th>Return Reason</th>\n",
       "    </tr>\n",
       "  </thead>\n",
       "  <tbody>\n",
       "    <tr>\n",
       "      <th>0</th>\n",
       "      <td>2001</td>\n",
       "      <td>Hughes</td>\n",
       "      <td>Lewis</td>\n",
       "      <td>1234</td>\n",
       "      <td>Clothing</td>\n",
       "      <td>2022-11-06</td>\n",
       "      <td>9</td>\n",
       "      <td>Shipped</td>\n",
       "      <td>LA</td>\n",
       "      <td>1420</td>\n",
       "      <td>1657</td>\n",
       "      <td>237</td>\n",
       "      <td>Brian</td>\n",
       "      <td>NaN</td>\n",
       "    </tr>\n",
       "    <tr>\n",
       "      <th>1</th>\n",
       "      <td>2002</td>\n",
       "      <td>Gomez</td>\n",
       "      <td>Ali</td>\n",
       "      <td>1235</td>\n",
       "      <td>Home &amp; Kitchen</td>\n",
       "      <td>2022-11-03</td>\n",
       "      <td>11</td>\n",
       "      <td>Shipped</td>\n",
       "      <td>LA</td>\n",
       "      <td>1410</td>\n",
       "      <td>1755</td>\n",
       "      <td>345</td>\n",
       "      <td>Kelly</td>\n",
       "      <td>NaN</td>\n",
       "    </tr>\n",
       "    <tr>\n",
       "      <th>2</th>\n",
       "      <td>2003</td>\n",
       "      <td>Beck</td>\n",
       "      <td>Mila</td>\n",
       "      <td>1236</td>\n",
       "      <td>Personal Care</td>\n",
       "      <td>2022-11-10</td>\n",
       "      <td>9</td>\n",
       "      <td>Delivered</td>\n",
       "      <td>GA</td>\n",
       "      <td>260</td>\n",
       "      <td>288</td>\n",
       "      <td>28</td>\n",
       "      <td>Brian</td>\n",
       "      <td>NaN</td>\n",
       "    </tr>\n",
       "    <tr>\n",
       "      <th>3</th>\n",
       "      <td>2004</td>\n",
       "      <td>Juarez</td>\n",
       "      <td>Ryleigh</td>\n",
       "      <td>1237</td>\n",
       "      <td>Personal Care</td>\n",
       "      <td>2022-11-19</td>\n",
       "      <td>9</td>\n",
       "      <td>Delivered</td>\n",
       "      <td>NC</td>\n",
       "      <td>715</td>\n",
       "      <td>812</td>\n",
       "      <td>97</td>\n",
       "      <td>Priscilla</td>\n",
       "      <td>NaN</td>\n",
       "    </tr>\n",
       "    <tr>\n",
       "      <th>4</th>\n",
       "      <td>2005</td>\n",
       "      <td>Preston</td>\n",
       "      <td>Leonidas</td>\n",
       "      <td>1238</td>\n",
       "      <td>Electronics</td>\n",
       "      <td>2022-11-07</td>\n",
       "      <td>13</td>\n",
       "      <td>Shipped</td>\n",
       "      <td>GA</td>\n",
       "      <td>790</td>\n",
       "      <td>978</td>\n",
       "      <td>188</td>\n",
       "      <td>Priscilla</td>\n",
       "      <td>NaN</td>\n",
       "    </tr>\n",
       "  </tbody>\n",
       "</table>\n",
       "</div>"
      ],
      "text/plain": [
       "   Order ID Customer Last Name Customer First Name  Customer ID  \\\n",
       "0      2001             Hughes               Lewis         1234   \n",
       "1      2002              Gomez                 Ali         1235   \n",
       "2      2003               Beck                Mila         1236   \n",
       "3      2004             Juarez             Ryleigh         1237   \n",
       "4      2005            Preston            Leonidas         1238   \n",
       "\n",
       "  Product Category Order Date  Quantity Ordered Order Status State  \\\n",
       "0         Clothing 2022-11-06                 9      Shipped    LA   \n",
       "1   Home & Kitchen 2022-11-03                11      Shipped    LA   \n",
       "2    Personal Care 2022-11-10                 9    Delivered    GA   \n",
       "3    Personal Care 2022-11-19                 9    Delivered    NC   \n",
       "4      Electronics 2022-11-07                13      Shipped    GA   \n",
       "\n",
       "   Manufacturer Price  Sale Price  Total Profit (GMROI) Sales Agent  \\\n",
       "0                1420        1657                   237       Brian   \n",
       "1                1410        1755                   345       Kelly   \n",
       "2                 260         288                    28       Brian   \n",
       "3                 715         812                    97   Priscilla   \n",
       "4                 790         978                   188   Priscilla   \n",
       "\n",
       "  Return Reason  \n",
       "0           NaN  \n",
       "1           NaN  \n",
       "2           NaN  \n",
       "3           NaN  \n",
       "4           NaN  "
      ]
     },
     "execution_count": 7,
     "metadata": {},
     "output_type": "execute_result"
    }
   ],
   "source": [
    "reg_sale_11.head()"
   ]
  },
  {
   "cell_type": "code",
   "execution_count": 8,
   "metadata": {},
   "outputs": [
    {
     "data": {
      "text/html": [
       "<div>\n",
       "<style scoped>\n",
       "    .dataframe tbody tr th:only-of-type {\n",
       "        vertical-align: middle;\n",
       "    }\n",
       "\n",
       "    .dataframe tbody tr th {\n",
       "        vertical-align: top;\n",
       "    }\n",
       "\n",
       "    .dataframe thead th {\n",
       "        text-align: right;\n",
       "    }\n",
       "</style>\n",
       "<table border=\"1\" class=\"dataframe\">\n",
       "  <thead>\n",
       "    <tr style=\"text-align: right;\">\n",
       "      <th></th>\n",
       "      <th>Order ID</th>\n",
       "      <th>Customer Last Name</th>\n",
       "      <th>Customer First Name</th>\n",
       "      <th>Customer ID</th>\n",
       "      <th>Product Category</th>\n",
       "      <th>Order Date</th>\n",
       "      <th>Quantity Ordered</th>\n",
       "      <th>Order Status</th>\n",
       "      <th>State</th>\n",
       "      <th>Manufacturer Price</th>\n",
       "      <th>Sale Price</th>\n",
       "      <th>Total Profit (GMROI)</th>\n",
       "      <th>Sales Agent</th>\n",
       "      <th>Return Reason</th>\n",
       "    </tr>\n",
       "  </thead>\n",
       "  <tbody>\n",
       "    <tr>\n",
       "      <th>0</th>\n",
       "      <td>3001</td>\n",
       "      <td>Hughes</td>\n",
       "      <td>Lewis</td>\n",
       "      <td>1234</td>\n",
       "      <td>Clothing</td>\n",
       "      <td>2022-12-24</td>\n",
       "      <td>12</td>\n",
       "      <td>Delivered</td>\n",
       "      <td>LA</td>\n",
       "      <td>470</td>\n",
       "      <td>564</td>\n",
       "      <td>94</td>\n",
       "      <td>Kelly</td>\n",
       "      <td>NaN</td>\n",
       "    </tr>\n",
       "    <tr>\n",
       "      <th>1</th>\n",
       "      <td>3002</td>\n",
       "      <td>Gomez</td>\n",
       "      <td>Ali</td>\n",
       "      <td>1235</td>\n",
       "      <td>Home &amp; Kitchen</td>\n",
       "      <td>2022-12-06</td>\n",
       "      <td>2</td>\n",
       "      <td>In Transit</td>\n",
       "      <td>LA</td>\n",
       "      <td>665</td>\n",
       "      <td>777</td>\n",
       "      <td>112</td>\n",
       "      <td>Kelly</td>\n",
       "      <td>NaN</td>\n",
       "    </tr>\n",
       "    <tr>\n",
       "      <th>2</th>\n",
       "      <td>3003</td>\n",
       "      <td>Beck</td>\n",
       "      <td>Mila</td>\n",
       "      <td>1236</td>\n",
       "      <td>Personal Care</td>\n",
       "      <td>2022-12-01</td>\n",
       "      <td>7</td>\n",
       "      <td>Delivered</td>\n",
       "      <td>GA</td>\n",
       "      <td>1445</td>\n",
       "      <td>1829</td>\n",
       "      <td>384</td>\n",
       "      <td>Priscilla</td>\n",
       "      <td>NaN</td>\n",
       "    </tr>\n",
       "    <tr>\n",
       "      <th>3</th>\n",
       "      <td>3004</td>\n",
       "      <td>Juarez</td>\n",
       "      <td>Ryleigh</td>\n",
       "      <td>1237</td>\n",
       "      <td>Personal Care</td>\n",
       "      <td>2022-12-25</td>\n",
       "      <td>9</td>\n",
       "      <td>Delivered</td>\n",
       "      <td>NC</td>\n",
       "      <td>200</td>\n",
       "      <td>227</td>\n",
       "      <td>27</td>\n",
       "      <td>Daniel</td>\n",
       "      <td>NaN</td>\n",
       "    </tr>\n",
       "    <tr>\n",
       "      <th>4</th>\n",
       "      <td>3005</td>\n",
       "      <td>Preston</td>\n",
       "      <td>Leonidas</td>\n",
       "      <td>1238</td>\n",
       "      <td>Electronics</td>\n",
       "      <td>2022-12-29</td>\n",
       "      <td>9</td>\n",
       "      <td>Shipped</td>\n",
       "      <td>GA</td>\n",
       "      <td>1175</td>\n",
       "      <td>1355</td>\n",
       "      <td>180</td>\n",
       "      <td>Brian</td>\n",
       "      <td>NaN</td>\n",
       "    </tr>\n",
       "  </tbody>\n",
       "</table>\n",
       "</div>"
      ],
      "text/plain": [
       "   Order ID Customer Last Name Customer First Name  Customer ID  \\\n",
       "0      3001             Hughes               Lewis         1234   \n",
       "1      3002              Gomez                 Ali         1235   \n",
       "2      3003               Beck                Mila         1236   \n",
       "3      3004             Juarez             Ryleigh         1237   \n",
       "4      3005            Preston            Leonidas         1238   \n",
       "\n",
       "  Product Category Order Date  Quantity Ordered Order Status State  \\\n",
       "0         Clothing 2022-12-24                12    Delivered    LA   \n",
       "1   Home & Kitchen 2022-12-06                 2   In Transit    LA   \n",
       "2    Personal Care 2022-12-01                 7    Delivered    GA   \n",
       "3    Personal Care 2022-12-25                 9    Delivered    NC   \n",
       "4      Electronics 2022-12-29                 9      Shipped    GA   \n",
       "\n",
       "   Manufacturer Price  Sale Price  Total Profit (GMROI) Sales Agent  \\\n",
       "0                 470         564                    94       Kelly   \n",
       "1                 665         777                   112       Kelly   \n",
       "2                1445        1829                   384   Priscilla   \n",
       "3                 200         227                    27      Daniel   \n",
       "4                1175        1355                   180       Brian   \n",
       "\n",
       "  Return Reason  \n",
       "0           NaN  \n",
       "1           NaN  \n",
       "2           NaN  \n",
       "3           NaN  \n",
       "4           NaN  "
      ]
     },
     "execution_count": 8,
     "metadata": {},
     "output_type": "execute_result"
    }
   ],
   "source": [
    "reg_sale_12.head()"
   ]
  },
  {
   "cell_type": "code",
   "execution_count": 9,
   "metadata": {},
   "outputs": [
    {
     "data": {
      "text/html": [
       "<div>\n",
       "<style scoped>\n",
       "    .dataframe tbody tr th:only-of-type {\n",
       "        vertical-align: middle;\n",
       "    }\n",
       "\n",
       "    .dataframe tbody tr th {\n",
       "        vertical-align: top;\n",
       "    }\n",
       "\n",
       "    .dataframe thead th {\n",
       "        text-align: right;\n",
       "    }\n",
       "</style>\n",
       "<table border=\"1\" class=\"dataframe\">\n",
       "  <thead>\n",
       "    <tr style=\"text-align: right;\">\n",
       "      <th></th>\n",
       "      <th>Customer Last Name</th>\n",
       "      <th>Customer First Name</th>\n",
       "      <th>Customer ID</th>\n",
       "      <th>Product Category</th>\n",
       "      <th>Order Date</th>\n",
       "      <th>Quantity Ordered</th>\n",
       "      <th>Order Status</th>\n",
       "      <th>State</th>\n",
       "      <th>Address</th>\n",
       "      <th>City</th>\n",
       "      <th>Postal Code</th>\n",
       "      <th>Sale Price</th>\n",
       "      <th>Phone</th>\n",
       "    </tr>\n",
       "  </thead>\n",
       "  <tbody>\n",
       "    <tr>\n",
       "      <th>0</th>\n",
       "      <td>Hughes</td>\n",
       "      <td>Lewis</td>\n",
       "      <td>1234</td>\n",
       "      <td>Clothing</td>\n",
       "      <td>2022-12-24</td>\n",
       "      <td>12</td>\n",
       "      <td>Delivered</td>\n",
       "      <td>LA</td>\n",
       "      <td>49458 Glenwood Avenue</td>\n",
       "      <td>Shreveport</td>\n",
       "      <td>71101</td>\n",
       "      <td>564</td>\n",
       "      <td>504-870-1437</td>\n",
       "    </tr>\n",
       "    <tr>\n",
       "      <th>1</th>\n",
       "      <td>Gomez</td>\n",
       "      <td>Ali</td>\n",
       "      <td>1235</td>\n",
       "      <td>Home &amp; Kitchen</td>\n",
       "      <td>2022-12-06</td>\n",
       "      <td>2</td>\n",
       "      <td>In Transit</td>\n",
       "      <td>LA</td>\n",
       "      <td>11591 River Road</td>\n",
       "      <td>Covington</td>\n",
       "      <td>70433</td>\n",
       "      <td>777</td>\n",
       "      <td>337-400-1567</td>\n",
       "    </tr>\n",
       "    <tr>\n",
       "      <th>2</th>\n",
       "      <td>Beck</td>\n",
       "      <td>Mila</td>\n",
       "      <td>1236</td>\n",
       "      <td>Personal Care</td>\n",
       "      <td>2022-12-01</td>\n",
       "      <td>7</td>\n",
       "      <td>Delivered</td>\n",
       "      <td>GA</td>\n",
       "      <td>48087 Jackson Street</td>\n",
       "      <td>Atlanta</td>\n",
       "      <td>30303</td>\n",
       "      <td>1829</td>\n",
       "      <td>404-573-7088</td>\n",
       "    </tr>\n",
       "    <tr>\n",
       "      <th>3</th>\n",
       "      <td>Juarez</td>\n",
       "      <td>Ryleigh</td>\n",
       "      <td>1237</td>\n",
       "      <td>Personal Care</td>\n",
       "      <td>2022-12-25</td>\n",
       "      <td>9</td>\n",
       "      <td>Delivered</td>\n",
       "      <td>NC</td>\n",
       "      <td>46798 Hillcrest Avenue</td>\n",
       "      <td>Columbia</td>\n",
       "      <td>29201</td>\n",
       "      <td>227</td>\n",
       "      <td>252-325-9603</td>\n",
       "    </tr>\n",
       "    <tr>\n",
       "      <th>4</th>\n",
       "      <td>Preston</td>\n",
       "      <td>Leonidas</td>\n",
       "      <td>1238</td>\n",
       "      <td>Electronics</td>\n",
       "      <td>2022-12-29</td>\n",
       "      <td>9</td>\n",
       "      <td>Shipped</td>\n",
       "      <td>GA</td>\n",
       "      <td>65693 Mulberry Street</td>\n",
       "      <td>Avondale Estates</td>\n",
       "      <td>30002</td>\n",
       "      <td>1355</td>\n",
       "      <td>404-383-9724</td>\n",
       "    </tr>\n",
       "  </tbody>\n",
       "</table>\n",
       "</div>"
      ],
      "text/plain": [
       "  Customer Last Name Customer First Name  Customer ID Product Category  \\\n",
       "0             Hughes               Lewis         1234         Clothing   \n",
       "1              Gomez                 Ali         1235   Home & Kitchen   \n",
       "2               Beck                Mila         1236    Personal Care   \n",
       "3             Juarez             Ryleigh         1237    Personal Care   \n",
       "4            Preston            Leonidas         1238      Electronics   \n",
       "\n",
       "  Order Date  Quantity Ordered Order Status State                 Address  \\\n",
       "0 2022-12-24                12    Delivered    LA   49458 Glenwood Avenue   \n",
       "1 2022-12-06                 2   In Transit    LA        11591 River Road   \n",
       "2 2022-12-01                 7    Delivered    GA    48087 Jackson Street   \n",
       "3 2022-12-25                 9    Delivered    NC  46798 Hillcrest Avenue   \n",
       "4 2022-12-29                 9      Shipped    GA   65693 Mulberry Street   \n",
       "\n",
       "               City  Postal Code  Sale Price         Phone  \n",
       "0        Shreveport        71101         564  504-870-1437  \n",
       "1         Covington        70433         777  337-400-1567  \n",
       "2           Atlanta        30303        1829  404-573-7088  \n",
       "3          Columbia        29201         227  252-325-9603  \n",
       "4  Avondale Estates        30002        1355  404-383-9724  "
      ]
     },
     "execution_count": 9,
     "metadata": {},
     "output_type": "execute_result"
    }
   ],
   "source": [
    "customer.head()"
   ]
  },
  {
   "cell_type": "markdown",
   "metadata": {},
   "source": [
    "Tạm thời thì mấy cái reg_sale chưa biết nó sẽ khác nhau ở chỗ nào, nói chung là cần tìm hiểu thêm. \n",
    "\n",
    "\n",
    "À rồi, thì là mấy cái này là record của từng tháng."
   ]
  },
  {
   "cell_type": "markdown",
   "metadata": {},
   "source": [
    "Bây giờ xem xét kiểu biến của các dataframe đã phù hợp chưa, nếu chưa thì tìm và sửa tiếp"
   ]
  },
  {
   "cell_type": "code",
   "execution_count": 19,
   "metadata": {},
   "outputs": [
    {
     "name": "stdout",
     "output_type": "stream",
     "text": [
      "Order ID                         int64\n",
      "Customer Last Name              object\n",
      "Customer First Name             object\n",
      "Customer ID                      int64\n",
      "Product Category                object\n",
      "Order Date              datetime64[ns]\n",
      "Quantity Ordered                 int64\n",
      "Order Status                    object\n",
      "State                           object\n",
      "Manufacturer Price               int64\n",
      "Sale Price                       int64\n",
      "Total Profit (GMROI)             int64\n",
      "Sales Agent                     object\n",
      "Return Reason                   object\n",
      "dtype: object\n"
     ]
    }
   ],
   "source": [
    "print(reg_sale_10.dtypes)"
   ]
  },
  {
   "cell_type": "code",
   "execution_count": 20,
   "metadata": {},
   "outputs": [
    {
     "name": "stdout",
     "output_type": "stream",
     "text": [
      "Order ID                         int64\n",
      "Customer Last Name              object\n",
      "Customer First Name             object\n",
      "Customer ID                      int64\n",
      "Product Category                object\n",
      "Order Date              datetime64[ns]\n",
      "Quantity Ordered                 int64\n",
      "Order Status                    object\n",
      "State                           object\n",
      "Manufacturer Price               int64\n",
      "Sale Price                       int64\n",
      "Total Profit (GMROI)             int64\n",
      "Sales Agent                     object\n",
      "Return Reason                   object\n",
      "dtype: object\n"
     ]
    }
   ],
   "source": [
    "print(reg_sale_11.dtypes)"
   ]
  },
  {
   "cell_type": "code",
   "execution_count": 21,
   "metadata": {},
   "outputs": [
    {
     "name": "stdout",
     "output_type": "stream",
     "text": [
      "Order ID                         int64\n",
      "Customer Last Name              object\n",
      "Customer First Name             object\n",
      "Customer ID                      int64\n",
      "Product Category                object\n",
      "Order Date              datetime64[ns]\n",
      "Quantity Ordered                 int64\n",
      "Order Status                    object\n",
      "State                           object\n",
      "Manufacturer Price               int64\n",
      "Sale Price                       int64\n",
      "Total Profit (GMROI)             int64\n",
      "Sales Agent                     object\n",
      "Return Reason                   object\n",
      "dtype: object\n"
     ]
    }
   ],
   "source": [
    "print(reg_sale_12.dtypes)"
   ]
  },
  {
   "cell_type": "code",
   "execution_count": 22,
   "metadata": {},
   "outputs": [
    {
     "name": "stdout",
     "output_type": "stream",
     "text": [
      "Customer Last Name             object\n",
      "Customer First Name            object\n",
      "Customer ID                     int64\n",
      "Product Category               object\n",
      "Order Date             datetime64[ns]\n",
      "Quantity Ordered                int64\n",
      "Order Status                   object\n",
      "State                          object\n",
      "Address                        object\n",
      "City                           object\n",
      "Postal Code                     int64\n",
      "Sale Price                      int64\n",
      "Phone                          object\n",
      "dtype: object\n"
     ]
    }
   ],
   "source": [
    "print(customer.dtypes)"
   ]
  },
  {
   "cell_type": "markdown",
   "metadata": {},
   "source": [
    "Kiểm tra missing value ở các dataframe khác nhau. "
   ]
  },
  {
   "cell_type": "code",
   "execution_count": 10,
   "metadata": {},
   "outputs": [
    {
     "data": {
      "text/plain": [
       "Order ID                  0\n",
       "Customer Last Name        0\n",
       "Customer First Name       0\n",
       "Customer ID               0\n",
       "Product Category          0\n",
       "Order Date                0\n",
       "Quantity Ordered          0\n",
       "Order Status              0\n",
       "State                     0\n",
       "Manufacturer Price        0\n",
       "Sale Price                0\n",
       "Total Profit (GMROI)      0\n",
       "Sales Agent               0\n",
       "Return Reason           888\n",
       "dtype: int64"
      ]
     },
     "execution_count": 10,
     "metadata": {},
     "output_type": "execute_result"
    }
   ],
   "source": [
    "# Check for missing values in the 'reg_sale_10' DataFrame\n",
    "missing_values_reg_sale_10 = reg_sale_10.isnull().sum()\n",
    "missing_values_reg_sale_10\n"
   ]
  },
  {
   "cell_type": "code",
   "execution_count": 11,
   "metadata": {},
   "outputs": [
    {
     "data": {
      "text/plain": [
       "Order ID                  0\n",
       "Customer Last Name        0\n",
       "Customer First Name       0\n",
       "Customer ID               0\n",
       "Product Category          0\n",
       "Order Date                0\n",
       "Quantity Ordered          0\n",
       "Order Status              0\n",
       "State                     0\n",
       "Manufacturer Price        0\n",
       "Sale Price                0\n",
       "Total Profit (GMROI)      0\n",
       "Sales Agent               0\n",
       "Return Reason           906\n",
       "dtype: int64"
      ]
     },
     "execution_count": 11,
     "metadata": {},
     "output_type": "execute_result"
    }
   ],
   "source": [
    "missing_values_reg_sale_11 = reg_sale_11.isnull().sum()\n",
    "missing_values_reg_sale_11"
   ]
  },
  {
   "cell_type": "code",
   "execution_count": 12,
   "metadata": {},
   "outputs": [
    {
     "data": {
      "text/plain": [
       "Order ID                  0\n",
       "Customer Last Name        0\n",
       "Customer First Name       0\n",
       "Customer ID               0\n",
       "Product Category          0\n",
       "Order Date                0\n",
       "Quantity Ordered          0\n",
       "Order Status              0\n",
       "State                     0\n",
       "Manufacturer Price        0\n",
       "Sale Price                0\n",
       "Total Profit (GMROI)      0\n",
       "Sales Agent               0\n",
       "Return Reason           897\n",
       "dtype: int64"
      ]
     },
     "execution_count": 12,
     "metadata": {},
     "output_type": "execute_result"
    }
   ],
   "source": [
    "missing_values_reg_sale_12 = reg_sale_12.isnull().sum()\n",
    "missing_values_reg_sale_12"
   ]
  },
  {
   "cell_type": "code",
   "execution_count": 13,
   "metadata": {},
   "outputs": [
    {
     "data": {
      "text/plain": [
       "Customer Last Name     0\n",
       "Customer First Name    0\n",
       "Customer ID            0\n",
       "Product Category       0\n",
       "Order Date             0\n",
       "Quantity Ordered       0\n",
       "Order Status           0\n",
       "State                  0\n",
       "Address                0\n",
       "City                   0\n",
       "Postal Code            0\n",
       "Sale Price             0\n",
       "Phone                  0\n",
       "dtype: int64"
      ]
     },
     "execution_count": 13,
     "metadata": {},
     "output_type": "execute_result"
    }
   ],
   "source": [
    "\n",
    "missing_values_customer = customer.isnull().sum()\n",
    "missing_values_customer"
   ]
  },
  {
   "cell_type": "markdown",
   "metadata": {},
   "source": [
    "Ok nhìn qua thì không thấy có missing value, hầu hết rơi vào biến `return reason`. Cần thăm khám thêm ở biến này. "
   ]
  },
  {
   "cell_type": "code",
   "execution_count": 14,
   "metadata": {},
   "outputs": [
    {
     "name": "stdout",
     "output_type": "stream",
     "text": [
      "Unique Return Reasons in reg_sale_10: [nan 'Defective' 'Late Delivery' 'Quality Issue' 'Received Wrong Item'\n",
      " 'Unsatisfied']\n"
     ]
    }
   ],
   "source": [
    "# Print unique values of the 'Return Reason' column in the 'reg_sale_10' DataFrame\n",
    "unique_return_reasons_reg_sale_10 = reg_sale_10['Return Reason'].unique()\n",
    "print(\"Unique Return Reasons in reg_sale_10:\", unique_return_reasons_reg_sale_10)"
   ]
  },
  {
   "cell_type": "code",
   "execution_count": 15,
   "metadata": {},
   "outputs": [
    {
     "name": "stdout",
     "output_type": "stream",
     "text": [
      "Unique Return Reasons in reg_sale_11: [nan 'Unsatisfied' 'Defective' 'Quality Issue' 'Received Wrong Item'\n",
      " 'Late Delivery']\n"
     ]
    }
   ],
   "source": [
    "# Print unique values of the 'Return Reason' column in the 'reg_sale_11' DataFrame\n",
    "unique_return_reasons_reg_sale_11 = reg_sale_11['Return Reason'].unique()\n",
    "print(\"Unique Return Reasons in reg_sale_11:\", unique_return_reasons_reg_sale_11)\n"
   ]
  },
  {
   "cell_type": "code",
   "execution_count": 16,
   "metadata": {},
   "outputs": [
    {
     "name": "stdout",
     "output_type": "stream",
     "text": [
      "Unique Return Reasons in reg_sale_12: [nan 'Quality Issue' 'Unsatisfied' 'Received Wrong Item' 'Defective'\n",
      " 'Late Delivery']\n"
     ]
    }
   ],
   "source": [
    "# Print unique values of the 'Return Reason' column in the 'reg_sale_12' DataFrame\n",
    "unique_return_reasons_reg_sale_12 = reg_sale_12['Return Reason'].unique()\n",
    "print(\"Unique Return Reasons in reg_sale_12:\", unique_return_reasons_reg_sale_12)"
   ]
  },
  {
   "cell_type": "markdown",
   "metadata": {},
   "source": [
    "Ok như vậy là cùng 1 lý do cả, để biết feature nào ảnh hưởng tới cái này nhiều thì có thể làm cái feature analysis"
   ]
  },
  {
   "cell_type": "code",
   "execution_count": null,
   "metadata": {},
   "outputs": [],
   "source": []
  },
  {
   "cell_type": "markdown",
   "metadata": {},
   "source": [
    "Ý nghĩa thống kê của các mặt hàng. "
   ]
  },
  {
   "cell_type": "markdown",
   "metadata": {},
   "source": []
  }
 ],
 "metadata": {
  "kernelspec": {
   "display_name": "Python 3",
   "language": "python",
   "name": "python3"
  },
  "language_info": {
   "codemirror_mode": {
    "name": "ipython",
    "version": 3
   },
   "file_extension": ".py",
   "mimetype": "text/x-python",
   "name": "python",
   "nbconvert_exporter": "python",
   "pygments_lexer": "ipython3",
   "version": "3.10.0"
  }
 },
 "nbformat": 4,
 "nbformat_minor": 2
}
